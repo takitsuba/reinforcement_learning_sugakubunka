{
 "cells": [
  {
   "cell_type": "markdown",
   "metadata": {},
   "source": [
    "# rewardの設定とrandom policy\n",
    "プラントのセンサーデータのシミュレータ `EnvSensor` に対して、行動後に得られる報酬（reward）を次のように設計しましょう。\n",
    "* reward = 1 : 125℃以上130℃以下に温度が抑えられている場合\n",
    "* reward = -1 : 上記以外\n",
    "\n",
    "また、120回行動した時点でそのepisodeは終了することにします。"
   ]
  },
  {
   "cell_type": "code",
   "execution_count": 1,
   "metadata": {},
   "outputs": [],
   "source": [
    "# 必要なmoduleのimport\n",
    "import numpy as np\n",
    "import matplotlib.pyplot as plt\n",
    "from tqdm.notebook import tqdm\n",
    "from environment import EnvSensor\n",
    "from reward import Reward\n",
    "from policy import RandomPolicy\n",
    "from utils import stop_episode, plot_demo"
   ]
  },
  {
   "cell_type": "markdown",
   "metadata": {},
   "source": [
    "## A. 報酬の実装"
   ]
  },
  {
   "cell_type": "code",
   "execution_count": 2,
   "metadata": {},
   "outputs": [
    {
     "data": {
      "text/plain": [
       "0"
      ]
     },
     "execution_count": 2,
     "metadata": {},
     "output_type": "execute_result"
    }
   ],
   "source": [
    "# 報酬instanceのbuild\n",
    "rew = Reward()\n",
    "rew.reset()"
   ]
  },
  {
   "cell_type": "code",
   "execution_count": 3,
   "metadata": {},
   "outputs": [
    {
     "data": {
      "text/plain": [
       "-1"
      ]
     },
     "execution_count": 3,
     "metadata": {},
     "output_type": "execute_result"
    }
   ],
   "source": [
    "rew.get_reward(state = 120.0)"
   ]
  },
  {
   "cell_type": "code",
   "execution_count": 4,
   "metadata": {},
   "outputs": [
    {
     "data": {
      "text/plain": [
       "1"
      ]
     },
     "execution_count": 4,
     "metadata": {},
     "output_type": "execute_result"
    }
   ],
   "source": [
    "rew.get_reward(state = 125.0)"
   ]
  },
  {
   "cell_type": "markdown",
   "metadata": {},
   "source": [
    "## B. episodeの終了規則"
   ]
  },
  {
   "cell_type": "code",
   "execution_count": 5,
   "metadata": {},
   "outputs": [
    {
     "data": {
      "text/plain": [
       "0"
      ]
     },
     "execution_count": 5,
     "metadata": {},
     "output_type": "execute_result"
    }
   ],
   "source": [
    "stop_episode(time = 25)"
   ]
  },
  {
   "cell_type": "code",
   "execution_count": 6,
   "metadata": {},
   "outputs": [
    {
     "data": {
      "text/plain": [
       "1"
      ]
     },
     "execution_count": 6,
     "metadata": {},
     "output_type": "execute_result"
    }
   ],
   "source": [
    "stop_episode( time = 120)"
   ]
  },
  {
   "cell_type": "markdown",
   "metadata": {},
   "source": [
    "## C. random policy"
   ]
  },
  {
   "cell_type": "code",
   "execution_count": 7,
   "metadata": {},
   "outputs": [
    {
     "data": {
      "text/plain": [
       "array([1])"
      ]
     },
     "execution_count": 7,
     "metadata": {},
     "output_type": "execute_result"
    }
   ],
   "source": [
    "pol = RandomPolicy()\n",
    "pol.get_action(state = 120.0)"
   ]
  },
  {
   "cell_type": "code",
   "execution_count": 8,
   "metadata": {},
   "outputs": [],
   "source": [
    "n_episode = 1000\n",
    "n_actions = 120\n",
    "env = EnvSensor()\n",
    "rew = Reward()\n",
    "pol = RandomPolicy()\n",
    "reward_each_episode = []\n",
    "cumulative_rewards = []"
   ]
  },
  {
   "cell_type": "code",
   "execution_count": 9,
   "metadata": {},
   "outputs": [
    {
     "data": {
      "application/vnd.jupyter.widget-view+json": {
       "model_id": "1f966f870fa84cdca16c52d2e7d0d6f4",
       "version_major": 2,
       "version_minor": 0
      },
      "text/plain": [
       "HBox(children=(FloatProgress(value=0.0, max=1000.0), HTML(value='')))"
      ]
     },
     "metadata": {},
     "output_type": "display_data"
    },
    {
     "name": "stdout",
     "output_type": "stream",
     "text": [
      "\n",
      "End of all episodes\n"
     ]
    }
   ],
   "source": [
    "for i in tqdm(range(n_episode)):\n",
    "    state = env.reset()\n",
    "    reward = rew.reset()\n",
    "    reward_each_episode.append(reward)    # rewardのログを保存\n",
    "    for j in range(1, n_actions + 1):\n",
    "        action = pol.get_action(state = state)\n",
    "        state = env.get_state(action = action)\n",
    "        reward = rew.get_reward(state = state)\n",
    "        reward_each_episode.append(reward)    # rewardのログを保存\n",
    "        if stop_episode(time = j) == 1:\n",
    "            #print(\"episode \" + str(i) + \" : \" + str(j) + \\\n",
    "            #      \" actions and final reward \" + str(reward))\n",
    "            cumulative_rewards.append(np.sum(reward_each_episode))    # episodeの累積報酬のログを取る。\n",
    "            reward_each_episode = []    # rewardのログを初期化\n",
    "            break\n",
    "print(\"End of all episodes\")"
   ]
  },
  {
   "cell_type": "code",
   "execution_count": 10,
   "metadata": {},
   "outputs": [
    {
     "data": {
      "image/png": "[encoded data removed]",
      "text/plain": [
       "<Figure size 720x288 with 2 Axes>"
      ]
     },
     "metadata": {
      "needs_background": "light"
     },
     "output_type": "display_data"
    }
   ],
   "source": [
    "episode_index = [i for i in range(n_episode)]\n",
    "plt.figure(figsize = (10, 4))\n",
    "plt.subplot(1, 2, 1)\n",
    "plt.plot(episode_index, cumulative_rewards, color = \"red\")\n",
    "plt.subplot(1, 2, 2)\n",
    "plt.boxplot(cumulative_rewards)\n",
    "plt.show()"
   ]
  },
  {
   "cell_type": "code",
   "execution_count": 16,
   "metadata": {},
   "outputs": [
    {
     "data": {
      "image/png": "[encoded data removed]",
      "text/plain": [
       "<Figure size 864x216 with 3 Axes>"
      ]
     },
     "metadata": {
      "needs_background": "light"
     },
     "output_type": "display_data"
    }
   ],
   "source": [
    "plot_demo(env = env, pol = pol, n_episodes = 1, steps_per_episode = 100)"
   ]
  },
  {
   "cell_type": "code",
   "execution_count": null,
   "metadata": {},
   "outputs": [],
   "source": []
  }
 ],
 "metadata": {
  "kernelspec": {
   "display_name": "Python 3",
   "language": "python",
   "name": "python3"
  },
  "language_info": {
   "codemirror_mode": {
    "name": "ipython",
    "version": 3
   },
   "file_extension": ".py",
   "mimetype": "text/x-python",
   "name": "python",
   "nbconvert_exporter": "python",
   "pygments_lexer": "ipython3",
   "version": "3.7.3"
  }
 },
 "nbformat": 4,
 "nbformat_minor": 2
}
